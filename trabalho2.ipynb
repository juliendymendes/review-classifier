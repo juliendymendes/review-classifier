{
  "nbformat": 4,
  "nbformat_minor": 0,
  "metadata": {
    "colab": {
      "provenance": [],
      "gpuType": "T4",
      "authorship_tag": "ABX9TyNpZ2MrKSTN6iKCmxDFH6FJ",
      "include_colab_link": true
    },
    "kernelspec": {
      "name": "python3",
      "display_name": "Python 3"
    },
    "language_info": {
      "name": "python"
    },
    "accelerator": "GPU"
  },
  "cells": [
    {
      "cell_type": "markdown",
      "metadata": {
        "id": "view-in-github",
        "colab_type": "text"
      },
      "source": [
        "<a href=\"https://colab.research.google.com/github/juliendymendes/review-classifier/blob/main/trabalho2.ipynb\" target=\"_parent\"><img src=\"https://colab.research.google.com/assets/colab-badge.svg\" alt=\"Open In Colab\"/></a>"
      ]
    },
    {
      "cell_type": "markdown",
      "source": [
        "## Construção do dataset"
      ],
      "metadata": {
        "id": "sfF0mNPs248D"
      }
    },
    {
      "cell_type": "code",
      "execution_count": null,
      "metadata": {
        "collapsed": true,
        "id": "yUBdwBIz2jqq"
      },
      "outputs": [],
      "source": [
        "!pip install datasets"
      ]
    },
    {
      "cell_type": "code",
      "source": [
        "import numpy as np\n",
        "from datasets import load_dataset\n",
        "import torch\n",
        "import torch.nn as nn\n",
        "\n",
        "from transformers import AutoTokenizer  # Or BertTokenizer\n",
        "from transformers import AutoModelForPreTraining  # Or BertForPreTraining for loading pretraining heads\n",
        "from transformers import AutoModel  # or BertModel, for BERT without pretraining heads\n",
        "from transformers import BertTokenizer, BertModel, DistilBertTokenizer, DistilBertForSequenceClassification\n",
        "\n",
        "import pandas as pd\n",
        "import os"
      ],
      "metadata": {
        "id": "xlzPYnSy3CTx"
      },
      "execution_count": 42,
      "outputs": []
    },
    {
      "cell_type": "code",
      "source": [
        "from google.colab import drive\n",
        "drive.mount('/content/drive')"
      ],
      "metadata": {
        "id": "sCBo0kZVDCqU"
      },
      "execution_count": null,
      "outputs": []
    },
    {
      "cell_type": "code",
      "source": [
        "os.chdir('/content/drive/MyDrive/datasets/amazon')"
      ],
      "metadata": {
        "id": "RpOvnENCDNSS"
      },
      "execution_count": 44,
      "outputs": []
    },
    {
      "cell_type": "code",
      "source": [
        "data = pd.read_csv('reviews.csv')"
      ],
      "metadata": {
        "id": "OZBh1-FmDlxl"
      },
      "execution_count": 45,
      "outputs": []
    },
    {
      "cell_type": "code",
      "source": [
        "data['label'].value_counts()"
      ],
      "metadata": {
        "id": "JQtCjMCYEGb4"
      },
      "execution_count": null,
      "outputs": []
    },
    {
      "cell_type": "code",
      "source": [
        "ytrain_global = np.array(data['label'].tolist())[:1000]\n",
        "xtrain_global = np.array(data['text'])[:1000]"
      ],
      "metadata": {
        "id": "LN7_BXZH-I67"
      },
      "execution_count": 47,
      "outputs": []
    },
    {
      "cell_type": "code",
      "source": [
        "np.unique(ytrain_global,return_counts=True)"
      ],
      "metadata": {
        "id": "bFTLfSGv-kSh"
      },
      "execution_count": null,
      "outputs": []
    },
    {
      "cell_type": "markdown",
      "source": [
        "## Dataloader"
      ],
      "metadata": {
        "id": "w3BaTGZQ_ThW"
      }
    },
    {
      "cell_type": "code",
      "source": [
        "import sklearn.model_selection as model_selection"
      ],
      "metadata": {
        "id": "vtHjc9yY_TNQ"
      },
      "execution_count": 49,
      "outputs": []
    },
    {
      "cell_type": "code",
      "source": [
        "tokenizer = BertTokenizer.from_pretrained('bert-base-multilingual-cased')"
      ],
      "metadata": {
        "id": "lbmnL-heVsBX"
      },
      "execution_count": 50,
      "outputs": []
    },
    {
      "cell_type": "code",
      "source": [
        "xtrain, xval, ytrain, yval = model_selection.train_test_split(xtrain_global, ytrain_global, test_size=0.30, random_state=42,shuffle=True)"
      ],
      "metadata": {
        "id": "e97iteDbAAU0"
      },
      "execution_count": 51,
      "outputs": []
    },
    {
      "cell_type": "code",
      "source": [
        "train_encodings = tokenizer(xtrain.tolist(), truncation=True, padding=True, max_length=512, return_tensors='pt')\n",
        "val_encodings = tokenizer(xval.tolist(), truncation=True, padding=True,max_length=512, return_tensors='pt')"
      ],
      "metadata": {
        "id": "mloXlFasEHXU"
      },
      "execution_count": 52,
      "outputs": []
    },
    {
      "cell_type": "code",
      "source": [
        "class MyDataset(torch.utils.data.Dataset):\n",
        "    def __init__(self, encodings, labels):\n",
        "        self.encodings = encodings\n",
        "        self.labels = labels\n",
        "\n",
        "    def __getitem__(self, idx):\n",
        "        item = {key: val[idx] for key, val in self.encodings.items()}\n",
        "        label = torch.tensor(self.labels[idx])\n",
        "        return (item,label)\n",
        "\n",
        "    def __len__(self):\n",
        "        return len(self.labels)"
      ],
      "metadata": {
        "id": "jWDohZs0FEkA"
      },
      "execution_count": 53,
      "outputs": []
    },
    {
      "cell_type": "code",
      "source": [
        "ds_train = MyDataset(train_encodings,ytrain)\n",
        "ds_val   = MyDataset(val_encodings,yval)"
      ],
      "metadata": {
        "id": "MkmQDUX_FIFr"
      },
      "execution_count": 54,
      "outputs": []
    },
    {
      "cell_type": "code",
      "source": [
        "from torch.utils.data import DataLoader"
      ],
      "metadata": {
        "id": "IY50LASSWnVw"
      },
      "execution_count": 55,
      "outputs": []
    },
    {
      "cell_type": "code",
      "source": [
        "dl_train = DataLoader(ds_train,batch_size=8)\n",
        "dl_eval  = DataLoader(ds_val,batch_size=8)"
      ],
      "metadata": {
        "id": "mjbCErBnWnua"
      },
      "execution_count": 56,
      "outputs": []
    },
    {
      "cell_type": "code",
      "source": [
        "x,y = next(iter(dl_train))"
      ],
      "metadata": {
        "id": "nrwF-sEMW045"
      },
      "execution_count": 57,
      "outputs": []
    },
    {
      "cell_type": "code",
      "source": [
        "device = torch.device(\"cuda\") if torch.cuda.is_available() else torch.device(\"cpu\")"
      ],
      "metadata": {
        "id": "ivOuIdvcW2wB"
      },
      "execution_count": 58,
      "outputs": []
    },
    {
      "cell_type": "code",
      "source": [
        "model = BertModel.from_pretrained(\"bert-base-multilingual-cased\")"
      ],
      "metadata": {
        "id": "xMSQzeZ2XCJ0"
      },
      "execution_count": 59,
      "outputs": []
    },
    {
      "cell_type": "code",
      "source": [
        "model.to(device)"
      ],
      "metadata": {
        "id": "7WYtdIUf54BX",
        "collapsed": true
      },
      "execution_count": null,
      "outputs": []
    },
    {
      "cell_type": "code",
      "source": [
        "batch = {k: v.to(device) for k, v in x.items()}"
      ],
      "metadata": {
        "id": "t6dfNEPMc5gi"
      },
      "execution_count": 61,
      "outputs": []
    },
    {
      "cell_type": "code",
      "source": [
        "out = model(**batch)"
      ],
      "metadata": {
        "id": "vRGQjhcDcwjQ"
      },
      "execution_count": 62,
      "outputs": []
    },
    {
      "cell_type": "code",
      "source": [
        "out.pooler_output"
      ],
      "metadata": {
        "id": "_zHQPgN7cxQW"
      },
      "execution_count": null,
      "outputs": []
    },
    {
      "cell_type": "code",
      "source": [
        "model.eval()"
      ],
      "metadata": {
        "id": "ZaTx9Q6RXhVo",
        "collapsed": true
      },
      "execution_count": null,
      "outputs": []
    },
    {
      "cell_type": "code",
      "source": [
        "from torch.optim import AdamW\n",
        "optimizer = AdamW(model.parameters(), lr=1e-5)"
      ],
      "metadata": {
        "id": "bsrcrMEaYPXp"
      },
      "execution_count": 65,
      "outputs": []
    },
    {
      "cell_type": "code",
      "source": [
        "from transformers import get_scheduler"
      ],
      "metadata": {
        "id": "WiOAezAOYQ1r"
      },
      "execution_count": 66,
      "outputs": []
    },
    {
      "cell_type": "code",
      "source": [
        "num_epochs = 10"
      ],
      "metadata": {
        "id": "VvTBnFdCYSaL"
      },
      "execution_count": 67,
      "outputs": []
    },
    {
      "cell_type": "code",
      "source": [
        "loss_fct = nn.CrossEntropyLoss()"
      ],
      "metadata": {
        "id": "MwDrP31gYT2v"
      },
      "execution_count": 68,
      "outputs": []
    },
    {
      "cell_type": "code",
      "source": [
        "for epoch in range(num_epochs):\n",
        "    lepochs = []\n",
        "    for batch,y in dl_train:\n",
        "        batch = {k: v.to(device) for k, v in batch.items()}\n",
        "        y     = y.to(device)\n",
        "        outputs = model(**batch)\n",
        "        loss = loss_fct(outputs.pooler_output,y)\n",
        "        loss.backward()\n",
        "        lepochs.append(loss.cpu().item())\n",
        "        optimizer.step()\n",
        "        #lr_scheduler.step()\n",
        "        optimizer.zero_grad()\n",
        "    print(np.mean(lepochs))"
      ],
      "metadata": {
        "id": "uXYIHpj-YVoM"
      },
      "execution_count": null,
      "outputs": []
    },
    {
      "cell_type": "code",
      "source": [
        "ytrue = []\n",
        "ypred = []\n",
        "for batch,y in dl_eval:\n",
        "    batch = {k: v.to(device) for k, v in batch.items()}\n",
        "    with torch.no_grad():\n",
        "        outputs = model(**batch)\n",
        "    predictions = torch.argmax(outputs.pooler_output, dim=-1)\n",
        "    ytrue += y.tolist()\n",
        "    ypred += predictions.cpu().tolist()"
      ],
      "metadata": {
        "id": "B6ViKSIDYxpP"
      },
      "execution_count": 70,
      "outputs": []
    },
    {
      "cell_type": "markdown",
      "source": [
        "## Avaliação do modelo"
      ],
      "metadata": {
        "id": "n7_yu981Y6ce"
      }
    },
    {
      "cell_type": "code",
      "source": [
        "from sklearn import metrics"
      ],
      "metadata": {
        "id": "Nc2kkUjoY9lI"
      },
      "execution_count": 71,
      "outputs": []
    },
    {
      "cell_type": "code",
      "source": [
        "print(metrics.classification_report(ytrue,ypred))"
      ],
      "metadata": {
        "id": "c25wU1SZY_zd",
        "colab": {
          "base_uri": "https://localhost:8080/"
        },
        "outputId": "6f7db4be-fe37-439f-a665-a0bde4a8071c"
      },
      "execution_count": 72,
      "outputs": [
        {
          "output_type": "stream",
          "name": "stdout",
          "text": [
            "              precision    recall  f1-score   support\n",
            "\n",
            "           0       0.88      0.41      0.56        17\n",
            "           1       0.55      0.92      0.69        13\n",
            "\n",
            "    accuracy                           0.63        30\n",
            "   macro avg       0.71      0.67      0.62        30\n",
            "weighted avg       0.73      0.63      0.61        30\n",
            "\n"
          ]
        }
      ]
    },
    {
      "cell_type": "markdown",
      "source": [
        "## Classification report - bert-base-multilingual-cased\n",
        "\n",
        "   \n",
        "\n",
        "```\n",
        "    precision    recall  f1-score   support\n",
        "\n",
        "           0       0.88      0.41      0.56        17\n",
        "           1       0.55      0.92      0.69        13\n",
        "\n",
        "    accuracy                           0.63        30\n",
        "   macro avg       0.71      0.67      0.62        30\n",
        "weighted avg       0.73      0.63      0.61        30\n",
        "```\n",
        "\n"
      ],
      "metadata": {
        "id": "tAPZMuOC_aN7"
      }
    },
    {
      "cell_type": "markdown",
      "source": [
        "## Classification report - distilbert-base-uncased\n",
        "\n",
        "\n",
        "\n",
        "```\n",
        "    precision    recall  f1-score   support\n",
        "\n",
        "           0       0.65      0.65      0.65        17\n",
        "           1       0.54      0.54      0.54        13\n",
        "\n",
        "    accuracy                           0.60        30\n",
        "   macro avg       0.59      0.59      0.59        30\n",
        "weighted avg       0.60      0.60      0.60        30\n",
        "```\n",
        "\n"
      ],
      "metadata": {
        "id": "aNvyUzfhFfvX"
      }
    },
    {
      "cell_type": "markdown",
      "source": [
        "## Bot do Telegram\n"
      ],
      "metadata": {
        "id": "bsw3tWHzJpzT"
      }
    },
    {
      "cell_type": "code",
      "source": [
        "!pip install python-telegram-bot --upgrade"
      ],
      "metadata": {
        "id": "LFRl1hugKVNR"
      },
      "execution_count": null,
      "outputs": []
    },
    {
      "cell_type": "code",
      "source": [
        "from telegram import ForceReply, Update\n",
        "from telegram.ext import Application, CommandHandler, ContextTypes, MessageHandler, filters"
      ],
      "metadata": {
        "id": "_xS43_W_JtZQ"
      },
      "execution_count": 74,
      "outputs": []
    },
    {
      "cell_type": "code",
      "source": [
        "async def echo(update: Update, context: ContextTypes.DEFAULT_TYPE) -> None:\n",
        "    review = update.message.text\n",
        "    model.to(device)\n",
        "    text = review\n",
        "    inputs = tokenizer(text, truncation=True, padding=True, max_length=512, return_tensors='pt')\n",
        "    inputs = {k: v.to(device) for k, v in inputs.items()}\n",
        "    model.eval()\n",
        "    with torch.no_grad():\n",
        "        outputs = model(**inputs)\n",
        "    tensor_output = outputs.pooler_output\n",
        "    softmax_result = torch.nn.functional.softmax(tensor_output, dim=-1)\n",
        "    pred = torch.argmax(softmax_result, dim=-1).item()\n",
        "    msg = ''\n",
        "    if pred == 0:\n",
        "        msg = \"Esse é um comentário negativo!\"\n",
        "    elif pred == 1:\n",
        "        msg = \"Esse é um comentário positivo!\"\n",
        "    else:\n",
        "        msg = 'Não, entendi. \\n'+ text\n",
        "    await update.message.reply_text(msg)"
      ],
      "metadata": {
        "id": "D33qoucvJ6PW"
      },
      "execution_count": 75,
      "outputs": []
    },
    {
      "cell_type": "code",
      "source": [
        "async def start(update: Update, context):\n",
        "    await update.message.reply_text(\"Olá! Envie uma avaliação de produto e direi se é um comentário positivo ou negativo!\")"
      ],
      "metadata": {
        "id": "fJxDDWcwYEqk"
      },
      "execution_count": 76,
      "outputs": []
    },
    {
      "cell_type": "code",
      "source": [
        "async def main2() -> None:\n",
        "    \"\"\"Start the bot.\"\"\"\n",
        "    # Create the Application and pass it your bot's token.\n",
        "    application = Application.builder().token(\"7970045384:AAGSxyiaCX77efWwZFmKXUf5bPC1YkHpvBo\").build()\n",
        "    await application.initialize()\n",
        "\n",
        "    # on non command i.e message - echo the message on Telegram\n",
        "    application.add_handler(CommandHandler(\"start\", start))\n",
        "    application.add_handler(MessageHandler(filters.TEXT & ~filters.COMMAND, echo))\n",
        "\n",
        "    # Run the bot until the user\n",
        "    await application.start()\n",
        "\n",
        "    await application.updater.start_polling()\n",
        "    print(\"Bot iniciado. Envie mensagens no Telegram.\")"
      ],
      "metadata": {
        "id": "90u73QBwJxOE"
      },
      "execution_count": 77,
      "outputs": []
    },
    {
      "cell_type": "code",
      "source": [
        "# application = Application.builder().token(\"7970045384:AAGSxyiaCX77efWwZFmKXUf5bPC1YkHpvBo\").build()\n",
        "# application.stop()"
      ],
      "metadata": {
        "id": "DPh7D_O7YtJ1"
      },
      "execution_count": 78,
      "outputs": []
    },
    {
      "cell_type": "code",
      "source": [
        "import nest_asyncio\n",
        "import asyncio\n",
        "\n",
        "nest_asyncio.apply()\n",
        "\n",
        "asyncio.run(main2())\n"
      ],
      "metadata": {
        "colab": {
          "base_uri": "https://localhost:8080/"
        },
        "id": "SYtCkVB_OKS4",
        "outputId": "f48fd8eb-a442-46bd-bac2-ac2b2acc0bbd"
      },
      "execution_count": 79,
      "outputs": [
        {
          "output_type": "stream",
          "name": "stdout",
          "text": [
            "Bot iniciado. Envie mensagens no Telegram.\n"
          ]
        }
      ]
    }
  ]
}